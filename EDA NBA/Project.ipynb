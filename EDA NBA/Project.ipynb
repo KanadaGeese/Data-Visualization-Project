{
 "cells": [
  {
   "cell_type": "markdown",
   "metadata": {},
   "source": [
    "# From Information to CSV File"
   ]
  },
  {
   "cell_type": "markdown",
   "metadata": {},
   "source": [
    "The following code transfers information from an html website into a csv file which can then be used in the data processing section."
   ]
  },
  {
   "cell_type": "code",
   "execution_count": 7,
   "metadata": {},
   "outputs": [
    {
     "name": "stdout",
     "output_type": "stream",
     "text": [
      "Checkin link 0\n"
     ]
    },
    {
     "name": "stderr",
     "output_type": "stream",
     "text": [
      "C:\\Users\\tiany\\AppData\\Local\\Temp\\ipykernel_5192\\2736969445.py:53: FutureWarning: Passing literal html to 'read_html' is deprecated and will be removed in a future version. To read from a literal string, wrap it in a 'StringIO' object.\n",
      "  df = pd.read_html(str(table))[0]        # Convert the table to a  datafrme\n"
     ]
    },
    {
     "name": "stdout",
     "output_type": "stream",
     "text": [
      "Checkin link 1\n"
     ]
    },
    {
     "name": "stderr",
     "output_type": "stream",
     "text": [
      "C:\\Users\\tiany\\AppData\\Local\\Temp\\ipykernel_5192\\2736969445.py:53: FutureWarning: Passing literal html to 'read_html' is deprecated and will be removed in a future version. To read from a literal string, wrap it in a 'StringIO' object.\n",
      "  df = pd.read_html(str(table))[0]        # Convert the table to a  datafrme\n"
     ]
    },
    {
     "name": "stdout",
     "output_type": "stream",
     "text": [
      "Checkin link 2\n"
     ]
    },
    {
     "name": "stderr",
     "output_type": "stream",
     "text": [
      "C:\\Users\\tiany\\AppData\\Local\\Temp\\ipykernel_5192\\2736969445.py:53: FutureWarning: Passing literal html to 'read_html' is deprecated and will be removed in a future version. To read from a literal string, wrap it in a 'StringIO' object.\n",
      "  df = pd.read_html(str(table))[0]        # Convert the table to a  datafrme\n"
     ]
    },
    {
     "name": "stdout",
     "output_type": "stream",
     "text": [
      "Checkin link 3\n"
     ]
    },
    {
     "name": "stderr",
     "output_type": "stream",
     "text": [
      "C:\\Users\\tiany\\AppData\\Local\\Temp\\ipykernel_5192\\2736969445.py:53: FutureWarning: Passing literal html to 'read_html' is deprecated and will be removed in a future version. To read from a literal string, wrap it in a 'StringIO' object.\n",
      "  df = pd.read_html(str(table))[0]        # Convert the table to a  datafrme\n"
     ]
    },
    {
     "name": "stdout",
     "output_type": "stream",
     "text": [
      "Checkin link 4\n"
     ]
    },
    {
     "name": "stderr",
     "output_type": "stream",
     "text": [
      "C:\\Users\\tiany\\AppData\\Local\\Temp\\ipykernel_5192\\2736969445.py:53: FutureWarning: Passing literal html to 'read_html' is deprecated and will be removed in a future version. To read from a literal string, wrap it in a 'StringIO' object.\n",
      "  df = pd.read_html(str(table))[0]        # Convert the table to a  datafrme\n"
     ]
    },
    {
     "name": "stdout",
     "output_type": "stream",
     "text": [
      "Checkin link 5\n"
     ]
    },
    {
     "name": "stderr",
     "output_type": "stream",
     "text": [
      "C:\\Users\\tiany\\AppData\\Local\\Temp\\ipykernel_5192\\2736969445.py:53: FutureWarning: Passing literal html to 'read_html' is deprecated and will be removed in a future version. To read from a literal string, wrap it in a 'StringIO' object.\n",
      "  df = pd.read_html(str(table))[0]        # Convert the table to a  datafrme\n"
     ]
    },
    {
     "name": "stdout",
     "output_type": "stream",
     "text": [
      "Checkin link 6\n"
     ]
    },
    {
     "name": "stderr",
     "output_type": "stream",
     "text": [
      "C:\\Users\\tiany\\AppData\\Local\\Temp\\ipykernel_5192\\2736969445.py:53: FutureWarning: Passing literal html to 'read_html' is deprecated and will be removed in a future version. To read from a literal string, wrap it in a 'StringIO' object.\n",
      "  df = pd.read_html(str(table))[0]        # Convert the table to a  datafrme\n"
     ]
    },
    {
     "name": "stdout",
     "output_type": "stream",
     "text": [
      "Checkin link 7\n"
     ]
    },
    {
     "name": "stderr",
     "output_type": "stream",
     "text": [
      "C:\\Users\\tiany\\AppData\\Local\\Temp\\ipykernel_5192\\2736969445.py:53: FutureWarning: Passing literal html to 'read_html' is deprecated and will be removed in a future version. To read from a literal string, wrap it in a 'StringIO' object.\n",
      "  df = pd.read_html(str(table))[0]        # Convert the table to a  datafrme\n"
     ]
    },
    {
     "name": "stdout",
     "output_type": "stream",
     "text": [
      "Checkin link 8\n"
     ]
    },
    {
     "name": "stderr",
     "output_type": "stream",
     "text": [
      "C:\\Users\\tiany\\AppData\\Local\\Temp\\ipykernel_5192\\2736969445.py:53: FutureWarning: Passing literal html to 'read_html' is deprecated and will be removed in a future version. To read from a literal string, wrap it in a 'StringIO' object.\n",
      "  df = pd.read_html(str(table))[0]        # Convert the table to a  datafrme\n"
     ]
    },
    {
     "name": "stdout",
     "output_type": "stream",
     "text": [
      "Checkin link 9\n"
     ]
    },
    {
     "name": "stderr",
     "output_type": "stream",
     "text": [
      "C:\\Users\\tiany\\AppData\\Local\\Temp\\ipykernel_5192\\2736969445.py:53: FutureWarning: Passing literal html to 'read_html' is deprecated and will be removed in a future version. To read from a literal string, wrap it in a 'StringIO' object.\n",
      "  df = pd.read_html(str(table))[0]        # Convert the table to a  datafrme\n"
     ]
    },
    {
     "name": "stdout",
     "output_type": "stream",
     "text": [
      "Checkin link 10\n"
     ]
    },
    {
     "name": "stderr",
     "output_type": "stream",
     "text": [
      "C:\\Users\\tiany\\AppData\\Local\\Temp\\ipykernel_5192\\2736969445.py:53: FutureWarning: Passing literal html to 'read_html' is deprecated and will be removed in a future version. To read from a literal string, wrap it in a 'StringIO' object.\n",
      "  df = pd.read_html(str(table))[0]        # Convert the table to a  datafrme\n"
     ]
    },
    {
     "name": "stdout",
     "output_type": "stream",
     "text": [
      "Checkin link 11\n"
     ]
    },
    {
     "name": "stderr",
     "output_type": "stream",
     "text": [
      "C:\\Users\\tiany\\AppData\\Local\\Temp\\ipykernel_5192\\2736969445.py:53: FutureWarning: Passing literal html to 'read_html' is deprecated and will be removed in a future version. To read from a literal string, wrap it in a 'StringIO' object.\n",
      "  df = pd.read_html(str(table))[0]        # Convert the table to a  datafrme\n"
     ]
    },
    {
     "name": "stdout",
     "output_type": "stream",
     "text": [
      "Checkin link 12\n"
     ]
    },
    {
     "name": "stderr",
     "output_type": "stream",
     "text": [
      "C:\\Users\\tiany\\AppData\\Local\\Temp\\ipykernel_5192\\2736969445.py:53: FutureWarning: Passing literal html to 'read_html' is deprecated and will be removed in a future version. To read from a literal string, wrap it in a 'StringIO' object.\n",
      "  df = pd.read_html(str(table))[0]        # Convert the table to a  datafrme\n"
     ]
    },
    {
     "name": "stdout",
     "output_type": "stream",
     "text": [
      "Checkin link 13\n"
     ]
    },
    {
     "name": "stderr",
     "output_type": "stream",
     "text": [
      "C:\\Users\\tiany\\AppData\\Local\\Temp\\ipykernel_5192\\2736969445.py:53: FutureWarning: Passing literal html to 'read_html' is deprecated and will be removed in a future version. To read from a literal string, wrap it in a 'StringIO' object.\n",
      "  df = pd.read_html(str(table))[0]        # Convert the table to a  datafrme\n"
     ]
    },
    {
     "name": "stdout",
     "output_type": "stream",
     "text": [
      "Checkin link 14\n"
     ]
    },
    {
     "name": "stderr",
     "output_type": "stream",
     "text": [
      "C:\\Users\\tiany\\AppData\\Local\\Temp\\ipykernel_5192\\2736969445.py:53: FutureWarning: Passing literal html to 'read_html' is deprecated and will be removed in a future version. To read from a literal string, wrap it in a 'StringIO' object.\n",
      "  df = pd.read_html(str(table))[0]        # Convert the table to a  datafrme\n"
     ]
    },
    {
     "name": "stdout",
     "output_type": "stream",
     "text": [
      "Checkin link 15\n"
     ]
    },
    {
     "name": "stderr",
     "output_type": "stream",
     "text": [
      "C:\\Users\\tiany\\AppData\\Local\\Temp\\ipykernel_5192\\2736969445.py:53: FutureWarning: Passing literal html to 'read_html' is deprecated and will be removed in a future version. To read from a literal string, wrap it in a 'StringIO' object.\n",
      "  df = pd.read_html(str(table))[0]        # Convert the table to a  datafrme\n"
     ]
    },
    {
     "name": "stdout",
     "output_type": "stream",
     "text": [
      "Checkin link 16\n"
     ]
    },
    {
     "name": "stderr",
     "output_type": "stream",
     "text": [
      "C:\\Users\\tiany\\AppData\\Local\\Temp\\ipykernel_5192\\2736969445.py:53: FutureWarning: Passing literal html to 'read_html' is deprecated and will be removed in a future version. To read from a literal string, wrap it in a 'StringIO' object.\n",
      "  df = pd.read_html(str(table))[0]        # Convert the table to a  datafrme\n"
     ]
    },
    {
     "name": "stdout",
     "output_type": "stream",
     "text": [
      "Checkin link 17\n"
     ]
    },
    {
     "name": "stderr",
     "output_type": "stream",
     "text": [
      "C:\\Users\\tiany\\AppData\\Local\\Temp\\ipykernel_5192\\2736969445.py:53: FutureWarning: Passing literal html to 'read_html' is deprecated and will be removed in a future version. To read from a literal string, wrap it in a 'StringIO' object.\n",
      "  df = pd.read_html(str(table))[0]        # Convert the table to a  datafrme\n"
     ]
    },
    {
     "name": "stdout",
     "output_type": "stream",
     "text": [
      "Checkin link 18\n"
     ]
    },
    {
     "name": "stderr",
     "output_type": "stream",
     "text": [
      "C:\\Users\\tiany\\AppData\\Local\\Temp\\ipykernel_5192\\2736969445.py:53: FutureWarning: Passing literal html to 'read_html' is deprecated and will be removed in a future version. To read from a literal string, wrap it in a 'StringIO' object.\n",
      "  df = pd.read_html(str(table))[0]        # Convert the table to a  datafrme\n"
     ]
    },
    {
     "name": "stdout",
     "output_type": "stream",
     "text": [
      "Checkin link 19\n"
     ]
    },
    {
     "name": "stderr",
     "output_type": "stream",
     "text": [
      "C:\\Users\\tiany\\AppData\\Local\\Temp\\ipykernel_5192\\2736969445.py:53: FutureWarning: Passing literal html to 'read_html' is deprecated and will be removed in a future version. To read from a literal string, wrap it in a 'StringIO' object.\n",
      "  df = pd.read_html(str(table))[0]        # Convert the table to a  datafrme\n"
     ]
    },
    {
     "name": "stdout",
     "output_type": "stream",
     "text": [
      "Checkin link 20\n"
     ]
    },
    {
     "name": "stderr",
     "output_type": "stream",
     "text": [
      "C:\\Users\\tiany\\AppData\\Local\\Temp\\ipykernel_5192\\2736969445.py:53: FutureWarning: Passing literal html to 'read_html' is deprecated and will be removed in a future version. To read from a literal string, wrap it in a 'StringIO' object.\n",
      "  df = pd.read_html(str(table))[0]        # Convert the table to a  datafrme\n"
     ]
    },
    {
     "name": "stdout",
     "output_type": "stream",
     "text": [
      "Checkin link 21\n"
     ]
    },
    {
     "name": "stderr",
     "output_type": "stream",
     "text": [
      "C:\\Users\\tiany\\AppData\\Local\\Temp\\ipykernel_5192\\2736969445.py:53: FutureWarning: Passing literal html to 'read_html' is deprecated and will be removed in a future version. To read from a literal string, wrap it in a 'StringIO' object.\n",
      "  df = pd.read_html(str(table))[0]        # Convert the table to a  datafrme\n"
     ]
    },
    {
     "name": "stdout",
     "output_type": "stream",
     "text": [
      "Checkin link 22\n"
     ]
    },
    {
     "name": "stderr",
     "output_type": "stream",
     "text": [
      "C:\\Users\\tiany\\AppData\\Local\\Temp\\ipykernel_5192\\2736969445.py:53: FutureWarning: Passing literal html to 'read_html' is deprecated and will be removed in a future version. To read from a literal string, wrap it in a 'StringIO' object.\n",
      "  df = pd.read_html(str(table))[0]        # Convert the table to a  datafrme\n"
     ]
    },
    {
     "name": "stdout",
     "output_type": "stream",
     "text": [
      "Checkin link 23\n"
     ]
    },
    {
     "name": "stderr",
     "output_type": "stream",
     "text": [
      "C:\\Users\\tiany\\AppData\\Local\\Temp\\ipykernel_5192\\2736969445.py:53: FutureWarning: Passing literal html to 'read_html' is deprecated and will be removed in a future version. To read from a literal string, wrap it in a 'StringIO' object.\n",
      "  df = pd.read_html(str(table))[0]        # Convert the table to a  datafrme\n"
     ]
    },
    {
     "name": "stdout",
     "output_type": "stream",
     "text": [
      "Checkin link 24\n"
     ]
    },
    {
     "name": "stderr",
     "output_type": "stream",
     "text": [
      "C:\\Users\\tiany\\AppData\\Local\\Temp\\ipykernel_5192\\2736969445.py:53: FutureWarning: Passing literal html to 'read_html' is deprecated and will be removed in a future version. To read from a literal string, wrap it in a 'StringIO' object.\n",
      "  df = pd.read_html(str(table))[0]        # Convert the table to a  datafrme\n"
     ]
    },
    {
     "name": "stdout",
     "output_type": "stream",
     "text": [
      "Checkin link 25\n"
     ]
    },
    {
     "name": "stderr",
     "output_type": "stream",
     "text": [
      "C:\\Users\\tiany\\AppData\\Local\\Temp\\ipykernel_5192\\2736969445.py:53: FutureWarning: Passing literal html to 'read_html' is deprecated and will be removed in a future version. To read from a literal string, wrap it in a 'StringIO' object.\n",
      "  df = pd.read_html(str(table))[0]        # Convert the table to a  datafrme\n"
     ]
    },
    {
     "name": "stdout",
     "output_type": "stream",
     "text": [
      "Checkin link 26\n"
     ]
    },
    {
     "name": "stderr",
     "output_type": "stream",
     "text": [
      "C:\\Users\\tiany\\AppData\\Local\\Temp\\ipykernel_5192\\2736969445.py:53: FutureWarning: Passing literal html to 'read_html' is deprecated and will be removed in a future version. To read from a literal string, wrap it in a 'StringIO' object.\n",
      "  df = pd.read_html(str(table))[0]        # Convert the table to a  datafrme\n"
     ]
    },
    {
     "name": "stdout",
     "output_type": "stream",
     "text": [
      "Checkin link 27\n"
     ]
    },
    {
     "name": "stderr",
     "output_type": "stream",
     "text": [
      "C:\\Users\\tiany\\AppData\\Local\\Temp\\ipykernel_5192\\2736969445.py:53: FutureWarning: Passing literal html to 'read_html' is deprecated and will be removed in a future version. To read from a literal string, wrap it in a 'StringIO' object.\n",
      "  df = pd.read_html(str(table))[0]        # Convert the table to a  datafrme\n"
     ]
    },
    {
     "name": "stdout",
     "output_type": "stream",
     "text": [
      "Checkin link 28\n"
     ]
    },
    {
     "name": "stderr",
     "output_type": "stream",
     "text": [
      "C:\\Users\\tiany\\AppData\\Local\\Temp\\ipykernel_5192\\2736969445.py:53: FutureWarning: Passing literal html to 'read_html' is deprecated and will be removed in a future version. To read from a literal string, wrap it in a 'StringIO' object.\n",
      "  df = pd.read_html(str(table))[0]        # Convert the table to a  datafrme\n"
     ]
    },
    {
     "name": "stdout",
     "output_type": "stream",
     "text": [
      "Checkin link 29\n"
     ]
    },
    {
     "name": "stderr",
     "output_type": "stream",
     "text": [
      "C:\\Users\\tiany\\AppData\\Local\\Temp\\ipykernel_5192\\2736969445.py:53: FutureWarning: Passing literal html to 'read_html' is deprecated and will be removed in a future version. To read from a literal string, wrap it in a 'StringIO' object.\n",
      "  df = pd.read_html(str(table))[0]        # Convert the table to a  datafrme\n"
     ]
    },
    {
     "name": "stdout",
     "output_type": "stream",
     "text": [
      "Data extraction complete. Saved to 'nba_player_stats_C_Rami.csv'.\n"
     ]
    }
   ],
   "source": [
    "import pandas as pd\n",
    "import requests # For WebScraping you remember Rami ?\n",
    "from bs4 import BeautifulSoup # Same \n",
    "\n",
    "\n",
    "urls = [\n",
    "    \"https://www.basketball-reference.com/leagues/NBA_2024_totals.html\",\n",
    "    \"https://www.basketball-reference.com/leagues/NBA_2023_totals.html\",\n",
    "    \"https://www.basketball-reference.com/leagues/NBA_2022_totals.html\",\n",
    "    \"https://www.basketball-reference.com/leagues/NBA_2021_totals.html\",\n",
    "    \"https://www.basketball-reference.com/leagues/NBA_2020_totals.html\",\n",
    "    \"https://www.basketball-reference.com/leagues/NBA_2019_totals.html\",\n",
    "    \"https://www.basketball-reference.com/leagues/NBA_2018_totals.html\",\n",
    "    \"https://www.basketball-reference.com/leagues/NBA_2017_totals.html\",\n",
    "    \"https://www.basketball-reference.com/leagues/NBA_2016_totals.html\",\n",
    "    \"https://www.basketball-reference.com/leagues/NBA_2015_totals.html\",\n",
    "    \"https://www.basketball-reference.com/leagues/NBA_2014_totals.html\",\n",
    "    \"https://www.basketball-reference.com/leagues/NBA_2013_totals.html\",\n",
    "    \"https://www.basketball-reference.com/leagues/NBA_2012_totals.html\",\n",
    "    \"https://www.basketball-reference.com/leagues/NBA_2011_totals.html\",\n",
    "    \"https://www.basketball-reference.com/leagues/NBA_2010_totals.html\",\n",
    "    \"https://www.basketball-reference.com/leagues/NBA_2009_totals.html\",\n",
    "    \"https://www.basketball-reference.com/leagues/NBA_2008_totals.html\",\n",
    "    \"https://www.basketball-reference.com/leagues/NBA_2007_totals.html\",\n",
    "    \"https://www.basketball-reference.com/leagues/NBA_2006_totals.html\",\n",
    "    \"https://www.basketball-reference.com/leagues/NBA_2005_totals.html\",\n",
    "    \"https://www.basketball-reference.com/leagues/NBA_2004_totals.html\",\n",
    "    \"https://www.basketball-reference.com/leagues/NBA_2003_totals.html\",\n",
    "    \"https://www.basketball-reference.com/leagues/NBA_2002_totals.html\",\n",
    "    \"https://www.basketball-reference.com/leagues/NBA_2001_totals.html\",\n",
    "    \"https://www.basketball-reference.com/leagues/NBA_2000_totals.html\",\n",
    "    \"https://www.basketball-reference.com/leagues/NBA_1999_totals.html\",\n",
    "    \"https://www.basketball-reference.com/leagues/NBA_1998_totals.html\",\n",
    "    \"https://www.basketball-reference.com/leagues/NBA_1997_totals.html\",\n",
    "    \"https://www.basketball-reference.com/leagues/NBA_1996_totals.html\",\n",
    "    \"https://www.basketball-reference.com/leagues/NBA_1995_totals.html\"\n",
    "]\n",
    "'''\n",
    "These are the urls you sent make sure that that's all you need \n",
    "'''\n",
    "# data will be sotored here \n",
    "all_data = []\n",
    "\n",
    "for (no, url) in enumerate(urls):\n",
    "    print(f'Checkin link {no}') \n",
    "    season_year = url.split(\"NBA_\")[1].split(\"_\")[0] #Just extratinc the year it's not scraping yet\n",
    "    \n",
    "    response = requests.get(url) # you remember we used this to bypass the secure http when fetching remote csv files\n",
    "    soup = BeautifulSoup(response.content, 'html.parser') # Scraping \n",
    "    \n",
    "    table = soup.find('table', {'id': 'totals_stats'}) #if you right click on the table -> inspect (if youre using Chrome you will find this div tag table )\n",
    "    \n",
    "    df = pd.read_html(str(table))[0]        # Convert the table to a  datafrme\n",
    "\n",
    "    # You can add any other columns you wish depending on your project: I just did what you mentioned in your email \n",
    "    columns_mapping = {\n",
    "        'Player': ['Player'],\n",
    "        'Team': ['Team'],  \n",
    "        'Points': ['PTS'],\n",
    "        'Pos' : ['Pos'],\n",
    "        'G' : ['G'],\n",
    "        'GS' : [\"GS\"],\n",
    "        'MP' : ['MP'],\n",
    "        'FG' : ['FG'],\n",
    "        'FGA' : ['FGA'],\n",
    "        'FG%' : [\"FG%\"],\n",
    "        '3P' : ['3P'],\n",
    "        '3PA' : ['3PA'],\n",
    "        '3P%' : ['3P%'],\n",
    "        '2P' : ['2P'],\n",
    "        '2PA' : ['2PA'],\n",
    "        '2P%' : ['2P%'],\n",
    "        'eFG%' : ['eFG%'],\n",
    "        'FT' : ['FT'],\n",
    "        'FTA' : [\"FTA\"],\n",
    "        'FT%' : ['FT%'],\n",
    "        'ORB' : ['ORB'],\n",
    "        'DRB' : ['DRB'],\n",
    "        'TRB' : ['TRB'],\n",
    "        'AST' : ['AST'],\n",
    "        'STL' : ['STL'],\n",
    "        'BLK' : ['BLK'],\n",
    "        'TOV' : ['TOV'],\n",
    "        'PF' : ['PF'],\n",
    "        'Trp-Dbl' : ['Trp-Dbl'],\n",
    "        'Awards' : ['Awards']\n",
    "\n",
    "    }\n",
    "    \n",
    "    # Renamin columns to a standard format\n",
    "    for standard_name, possible_names in columns_mapping.items():\n",
    "        for name in possible_names:\n",
    "            if name in df.columns:\n",
    "                df.rename(columns={name: standard_name}, inplace=True)\n",
    "                break\n",
    "    \n",
    "    required_columns = ['Player', 'Team', 'Points', 'Pos', 'G', 'GS', 'MP', 'FG', 'FGA', 'FG%', '3P', '2P', '2PA', '2P%', 'eFG%', 'FT',\n",
    "                        'FTA','FT%','ORB','DRB','TRB','AST','STL','BLK','TOV','PF','Trp-Dbl']\n",
    "    if not all(col in df.columns for col in required_columns):\n",
    "        print(f\"Skipping {season_year}: Required columns not found.\")\n",
    "        continue\n",
    "    \n",
    "    df = df[required_columns]\n",
    "    \n",
    "    # Add the season year as new column\n",
    "    df['Season'] = season_year\n",
    "    \n",
    "    all_data.append(df)\n",
    "\n",
    "# Combine all DataFrames into one dunno if you wanna do so \n",
    "final_df = pd.concat(all_data, ignore_index=True)\n",
    "\n",
    "final_df.to_csv('nba_player_stats_C_Rami.csv', index=False)\n",
    "\n",
    "print(\"Data extraction complete. Saved to 'nba_player_stats_C_Rami.csv'.\")"
   ]
  }
 ],
 "metadata": {
  "kernelspec": {
   "display_name": "Python 3",
   "language": "python",
   "name": "python3"
  },
  "language_info": {
   "codemirror_mode": {
    "name": "ipython",
    "version": 3
   },
   "file_extension": ".py",
   "mimetype": "text/x-python",
   "name": "python",
   "nbconvert_exporter": "python",
   "pygments_lexer": "ipython3",
   "version": "3.13.2"
  }
 },
 "nbformat": 4,
 "nbformat_minor": 2
}
