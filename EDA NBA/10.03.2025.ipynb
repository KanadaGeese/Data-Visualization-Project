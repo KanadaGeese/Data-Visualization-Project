{
 "cells": [
  {
   "cell_type": "markdown",
   "metadata": {},
   "source": [
    "# EDA for Data Analysis Project by Tianyi, Martine and Rami"
   ]
  },
  {
   "cell_type": "markdown",
   "metadata": {},
   "source": [
    "## Project Description\n",
    "Our project aims to track NBA players' movements (i.e what teams they played for) while tracking the year and their scoring performances. \n",
    "To do so, we collected data from https://www.basketball-reference.com ranging from 1995 to 2024 and used a code (thanks to Professor Bouyahya) to merge the tables and only keep the columns that are pertinent to our project. You can find this code in the repository."
   ]
  },
  {
   "cell_type": "markdown",
   "metadata": {},
   "source": [
    "# Part 1 - Codes and functions"
   ]
  },
  {
   "cell_type": "code",
   "execution_count": null,
   "metadata": {},
   "outputs": [],
   "source": [
    "import pandas as pd\n",
    "import scipy.stats as st\n",
    "import matplotlib.pyplot as plt\n",
    "import numpy as np\n",
    "import seaborn as sns\n",
    "import geopandas as gpd\n",
    "import contextily as ctx\n",
    "from shapely.geometry import Point\n",
    "import plotly.express as px"
   ]
  },
  {
   "cell_type": "code",
   "execution_count": null,
   "metadata": {},
   "outputs": [],
   "source": [
    "df = pd.read_csv(\"nba_player_stats_C_Rami.csv\")\n",
    "df"
   ]
  },
  {
   "cell_type": "code",
   "execution_count": null,
   "metadata": {},
   "outputs": [],
   "source": [
    "df.shape"
   ]
  },
  {
   "cell_type": "markdown",
   "metadata": {},
   "source": [
    "This function will get a player's data and put it into one smaller table (the player name is inputted by the user)"
   ]
  },
  {
   "cell_type": "code",
   "execution_count": null,
   "metadata": {},
   "outputs": [],
   "source": [
    "def get_player_stats(player_name, df):\n",
    "\n",
    "    # Filter the dataset for the given player\n",
    "    player_data = df[df['Player'].str.lower() == player_name.lower()]\n",
    "    \n",
    "    if player_data.empty:\n",
    "        print(f\"No data found for player: {player_name}\")\n",
    "        return None\n",
    "    \n",
    "    # Sort by season\n",
    "    player_data = player_data.sort_values(by='Season', ascending=True)\n",
    "    \n",
    "    # Print the table\n",
    "    print(player_data)\n",
    "\n",
    "    #Plotting the data\n",
    "    plt.figure(figsize=(10, 5))\n",
    "    sns.lineplot(x=player_data['Season'], y=player_data['Points'], label=player_name)\n",
    "    plt.xlabel(\"Season\")\n",
    "    plt.ylabel(\"Total Points\")\n",
    "    plt.title(f\"Points per Season for {player_name}\")\n",
    "    plt.xticks(player_data['Season'].unique())\n",
    "    plt.grid(True)\n",
    "    plt.show()"
   ]
  },
  {
   "cell_type": "markdown",
   "metadata": {},
   "source": [
    "This function will map the different cities that a player has played for, with the marker sizes being bigger for the cities with the best scoring performance for the player. To do so, we needed to sum up the total points scored in each city and scale marker size so that cities where the player scored more points have larger markers."
   ]
  },
  {
   "cell_type": "code",
   "execution_count": null,
   "metadata": {},
   "outputs": [],
   "source": [
    "df = df[[\"Player\",\"Points\",\"Team\",\"Season\"]]\n",
    "df"
   ]
  },
  {
   "cell_type": "code",
   "execution_count": null,
   "metadata": {},
   "outputs": [],
   "source": [
    "#Dictionary mapping NBA teams to cities and their approximate coordinates\n",
    "team_city_mapping = {\n",
    "    \"ATL\": (\"Atlanta\", -84.3885, 33.7501),\n",
    "    \"BOS\": (\"Boston\", -71.0589, 42.3601),\n",
    "    \"BKN\": (\"Brooklyn\", -73.9442, 40.6782),\n",
    "    \"CHA\": (\"Charlotte\", -80.8431, 35.2271),\n",
    "    \"CHI\": (\"Chicago\", -87.6298, 41.8781),\n",
    "    \"CLE\": (\"Cleveland\", -81.6944, 41.4993),\n",
    "    \"DAL\": (\"Dallas\", -96.7970, 32.7767), \n",
    "    \"DEN\": (\"Denver\", -104.9903, 39.7392),\n",
    "    \"DET\": (\"Detroit\", -83.0458, 42.3314),\n",
    "    \"GSW\": (\"San Francisco\", -122.4194, 37.7749),\n",
    "    \"HOU\": (\"Houston\", -95.3698, 29.7604),\n",
    "    \"IND\": (\"Indianapolis\", -86.1581, 39.7684),\n",
    "    \"LAC\": (\"Los Angeles\", -118.2437, 34.0522),\n",
    "    \"LAL\": (\"Los Angeles\", -118.2437, 34.0522),\n",
    "    \"MEM\": (\"Memphis\", -90.0490, 35.1495),\n",
    "    \"MIA\": (\"Miami\", -80.1918, 25.7617),\n",
    "    \"MIL\": (\"Milwaukee\", -87.9065, 43.0389),\n",
    "    \"MIN\": (\"Minneapolis\", -93.2650, 44.9778),\n",
    "    \"NOP\": (\"New Orleans\", -90.0715, 29.9511),\n",
    "    \"NYK\": (\"New York\", -74.0060, 40.7128),\n",
    "    \"OKC\": (\"Oklahoma City\", -97.5164, 35.4676),\n",
    "    \"ORL\": (\"Orlando\", -81.3792, 28.5383),\n",
    "    \"PHI\": (\"Philadelphia\", -75.1652, 39.9526),\n",
    "    \"PHX\": (\"Phoenix\", -112.0740, 33.4484),\n",
    "    \"POR\": (\"Portland\", -122.6765, 45.5152),\n",
    "    \"SAC\": (\"Sacramento\", -121.4944, 38.5816),\n",
    "    \"SAS\": (\"San Antonio\", -98.4936, 29.4241),\n",
    "    \"TOR\": (\"Toronto\", -79.3832, 43.6532),\n",
    "    \"UTA\": (\"Salt Lake City\", -111.8910, 40.7608),\n",
    "    \"WAS\": (\"Washington\", -77.0369, 38.9072)\n",
    "}\n",
    "\n",
    "def plotcities_plt(player_name, df):\n",
    "    player_data = df[df['Player'].str.lower() == player_name.lower()]\n",
    "    \n",
    "    if player_data.empty:\n",
    "        print(f\"No data found for player: {player_name}\")\n",
    "        return\n",
    "    \n",
    "    #Grouping points by team\n",
    "    points_by_team = player_data.groupby(\"Team\")[\"Points\"].sum().reset_index()\n",
    "    \n",
    "    #Retrieving city coordinates and points\n",
    "    cities = []\n",
    "\n",
    "    for i, row in points_by_team.iterrows():\n",
    "        team, points = row[\"Team\"], row[\"Points\"]\n",
    "        if team in team_city_mapping:\n",
    "            city, lon, lat = team_city_mapping[team]\n",
    "            cities.append((city, lon, lat, points))\n",
    "\n",
    "    if not cities:\n",
    "        print(f\"No mapped cities found for {player_name}.\")\n",
    "        return\n",
    "\n",
    "    # Convert to GeoDataFrame\n",
    "    gdf = gpd.GeoDataFrame(cities, columns=['City', 'Longitude', 'Latitude', 'Points'])\n",
    "    gdf['geometry'] = [Point(xy) for xy in zip(gdf['Longitude'], gdf['Latitude'])]\n",
    "    gdf = gdf.set_geometry('geometry').set_crs(epsg=4326).to_crs(epsg=3857)\n",
    "\n",
    "    #Scaling marker size based on points scored\n",
    "    min_size, max_size = 50, 500  \n",
    "    gdf['Marker Size'] = min_size + (gdf['Points'] - gdf['Points'].min()) / (\n",
    "        gdf['Points'].max() - gdf['Points'].min()) * (max_size - min_size)\n",
    "\n",
    "    # Plot\n",
    "    fig, ax = plt.subplots(figsize=(12, 8))\n",
    "    gdf.plot(ax=ax, markersize=gdf['Marker Size'], label=player_name)\n",
    "\n",
    "    # Add basemap\n",
    "    ctx.add_basemap(ax, source=ctx.providers.OpenStreetMap.Mapnik)\n",
    "\n",
    "    ax.set_title(f\"Cities {player_name} Played For\", fontsize=16)\n",
    "    ax.set_axis_off()\n",
    "    plt.show()\n",
    "\n",
    "\n",
    "def plotcities_plotly(player_name, df):\n",
    "    player_data = df[df['Player'].str.lower() == player_name.lower()]\n",
    "    \n",
    "    if player_data.empty:\n",
    "        print(f\"No data found for player: {player_name}\")\n",
    "        return\n",
    "    \n",
    "    # Grouping points by team\n",
    "    points_by_team = player_data.groupby(\"Team\")[\"Points\"].sum().reset_index()\n",
    "    \n",
    "    # Retrieving city coordinates and points\n",
    "    cities = []\n",
    "    for _, row in points_by_team.iterrows():\n",
    "        team, points = row[\"Team\"], row[\"Points\"]\n",
    "        if team in team_city_mapping:\n",
    "            city, lon, lat = team_city_mapping[team]\n",
    "            cities.append({\"City\": city, \"Longitude\": lon, \"Latitude\": lat, \"Points\": points})\n",
    "    \n",
    "    if not cities:\n",
    "        print(f\"No mapped cities found for {player_name}.\")\n",
    "        return\n",
    "    \n",
    "    # Convert to DataFrame\n",
    "    gdf = pd.DataFrame(cities)\n",
    "    \n",
    "    # Scaling marker size based on points scored\n",
    "    min_size, max_size = 10, 50  # Adjust marker size range\n",
    "    gdf['Marker Size'] = min_size + (gdf['Points'] - gdf['Points'].min()) / (\n",
    "        gdf['Points'].max() - gdf['Points'].min()) * (max_size - min_size)\n",
    "    \n",
    "    # Plot with Plotly\n",
    "    fig = px.scatter_mapbox(\n",
    "        gdf,\n",
    "        lat=\"Latitude\",\n",
    "        lon=\"Longitude\",\n",
    "        size=\"Marker Size\",\n",
    "        hover_name=\"City\",\n",
    "        hover_data={\"Points\": True, \"Latitude\": False, \"Longitude\": False},\n",
    "        size_max=max_size,\n",
    "        zoom=3,\n",
    "        title=f\"Cities {player_name} Played For\"\n",
    "    )\n",
    "    \n",
    "    fig.update_layout(\n",
    "        mapbox_style=\"open-street-map\",\n",
    "        margin={\"r\":0,\"t\":40,\"l\":0,\"b\":0}\n",
    "    )\n",
    "    \n",
    "    fig.show()\n",
    "\n",
    "\n",
    "# df = px.data.gapminder().query(\"year == 2007\")\n",
    "# fig = px.scatter_geo(df, locations=\"iso_alpha\", size=\"pop\", hover_name=\"country\", title=\"Population by country (in 2007)\")\n",
    "# fig.show()\n",
    "# df\n"
   ]
  },
  {
   "cell_type": "markdown",
   "metadata": {},
   "source": [
    "# Part 2 - Usage and Results of Functions "
   ]
  },
  {
   "cell_type": "markdown",
   "metadata": {},
   "source": [
    "### Section 1 : using ```matplotlib```"
   ]
  },
  {
   "cell_type": "code",
   "execution_count": null,
   "metadata": {},
   "outputs": [],
   "source": [
    "player_name = input(\"Enter player name: \")\n",
    "get_player_stats(player_name, df)\n",
    "plotcities_plt(player_name, df)"
   ]
  },
  {
   "cell_type": "code",
   "execution_count": null,
   "metadata": {},
   "outputs": [],
   "source": [
    "plotcities_plotly(player_name,df)"
   ]
  },
  {
   "cell_type": "markdown",
   "metadata": {},
   "source": [
    "### Section 2 : ```Plotly```"
   ]
  },
  {
   "cell_type": "code",
   "execution_count": null,
   "metadata": {},
   "outputs": [],
   "source": [
    "df = df.dropna(subset=[\"Season\", \"Team\", \"Points\"])  # Removes rows with missing hierarchy\n",
    "df.fillna(\"Unknown\", inplace=True)  # Replace NaN with 'Unknown'\n",
    "df.replace(\"\", \"Unknown\", inplace=True)\n",
    "\n",
    "\n",
    "fig = px.sunburst(\n",
    "    df,\n",
    "    path=[\"Season\", \"Team\"],  # Remove \"Points\" from path\n",
    "    values=\"Points\",\n",
    "    title=\"Sunburst Chart: Season, Team, and Points\"\n",
    ")\n",
    "\n",
    "\n",
    "fig.show()"
   ]
  }
 ],
 "metadata": {
  "kernelspec": {
   "display_name": "Python 3",
   "language": "python",
   "name": "python3"
  },
  "language_info": {
   "codemirror_mode": {
    "name": "ipython",
    "version": 3
   },
   "file_extension": ".py",
   "mimetype": "text/x-python",
   "name": "python",
   "nbconvert_exporter": "python",
   "pygments_lexer": "ipython3",
   "version": "3.13.2"
  }
 },
 "nbformat": 4,
 "nbformat_minor": 2
}
